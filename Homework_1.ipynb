{
 "cells": [
  {
   "cell_type": "code",
   "execution_count": 9,
   "metadata": {},
   "outputs": [
    {
     "name": "stdout",
     "output_type": "stream",
     "text": [
      "write something:: g\n",
      "write something:: h\n",
      "write integer value:: 6\n",
      "write float value:: 5.6\n",
      "write integer value:: 3\n",
      "--------------------\n",
      "value1 g\n",
      "value2 h\n",
      "value3 6\n",
      "value4 5.6\n",
      "value5 3\n"
     ]
    }
   ],
   "source": [
    "values = []\n",
    "value1 = input(\"write something:: \")\n",
    "values.append(value1)\n",
    "value2 = input(\"write something:: \")\n",
    "values.append(value2)\n",
    "value3 = int(input(\"write integer value:: \"))\n",
    "values.append(value3)\n",
    "value4 = float(input(\"write float value:: \"))\n",
    "values.append(value4)\n",
    "value5 = int(input(\"write integer value:: \"))\n",
    "values.append(value5)\n",
    "\n",
    "print(\"--------------------\")\n",
    "print(f\"value1 = {values[0]}\")\n",
    "print(f\"value2 = {values[1]}\")\n",
    "print(f\"value3 = {values[2]}\")\n",
    "print(f\"value4 = {values[3]}\")\n",
    "print(f\"value5 = {values[4]}\")\n",
    "\n",
    "print(\"--------------------\")\n",
    "print(f\"value1 = {values[0]}\")\n",
    "print(f\"value2 = {values[1]}\")\n",
    "print(f\"value3 = {values[2]}\")\n",
    "print(f\"value4 = {values[3]}\")\n",
    "print(f\"value5 = {values[4]}\")"
   ]
  },
  {
   "cell_type": "code",
   "execution_count": null,
   "metadata": {},
   "outputs": [],
   "source": []
  }
 ],
 "metadata": {
  "kernelspec": {
   "display_name": "Python 3",
   "language": "python",
   "name": "python3"
  },
  "language_info": {
   "codemirror_mode": {
    "name": "ipython",
    "version": 3
   },
   "file_extension": ".py",
   "mimetype": "text/x-python",
   "name": "python",
   "nbconvert_exporter": "python",
   "pygments_lexer": "ipython3",
   "version": "3.8.3"
  }
 },
 "nbformat": 4,
 "nbformat_minor": 4
}
