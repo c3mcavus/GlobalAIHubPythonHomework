{
 "cells": [
  {
   "cell_type": "code",
   "execution_count": 8,
   "metadata": {},
   "outputs": [
    {
     "name": "stdout",
     "output_type": "stream",
     "text": [
      "First Name: Cem\n",
      "Last Name: Çavuş\n",
      "Age:: 20\n",
      "Date of Birth (just year):: 2000\n",
      "First Name: Cem\n",
      "Last Name: Çavuş\n",
      "Age: 20\n",
      "Date of Birth: 2000\n",
      "You can go out to the street.\n"
     ]
    }
   ],
   "source": [
    "user_information = []\n",
    "fname = input(\"First Name: \")\n",
    "user_information.append([\"First Name\",fname])\n",
    "lname = input(\"Last Name: \")\n",
    "user_information.append([\"Last Name\",lname])\n",
    "age = int(input(\"Age:: \"))\n",
    "user_information.append([\"Age\",age])\n",
    "date_of_birth = int(input(\"Date of Birth (just year):: \"))\n",
    "user_information.append([\"Date of Birth\",date_of_birth])\n",
    "\n",
    "for w,info in user_information:\n",
    "    print(w + \": \" + str(info))\n",
    "    \n",
    "if age < 18:\n",
    "    print(\"You can't go out because it's too dangerous.\")\n",
    "else:\n",
    "    print(\"You can go out to the street.\")"
   ]
  },
  {
   "cell_type": "code",
   "execution_count": null,
   "metadata": {},
   "outputs": [],
   "source": []
  }
 ],
 "metadata": {
  "kernelspec": {
   "display_name": "Python 3",
   "language": "python",
   "name": "python3"
  },
  "language_info": {
   "codemirror_mode": {
    "name": "ipython",
    "version": 3
   },
   "file_extension": ".py",
   "mimetype": "text/x-python",
   "name": "python",
   "nbconvert_exporter": "python",
   "pygments_lexer": "ipython3",
   "version": "3.8.3"
  }
 },
 "nbformat": 4,
 "nbformat_minor": 4
}
